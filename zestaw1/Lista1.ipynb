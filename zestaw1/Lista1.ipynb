{
 "cells": [
  {
   "cell_type": "markdown",
   "metadata": {},
   "source": [
    "# Lista 1 (8 pkt.)"
   ]
  },
  {
   "cell_type": "code",
   "metadata": {
    "ExecuteTime": {
     "end_time": "2025-10-15T20:05:35.287756Z",
     "start_time": "2025-10-15T20:05:34.795063Z"
    }
   },
   "source": [
    "import string\n",
    "import matplotlib.pyplot as plt\n",
    "import numpy as np"
   ],
   "outputs": [],
   "execution_count": 4
  },
  {
   "cell_type": "markdown",
   "metadata": {},
   "source": [
    "## Zadanie 1 (1 pkt.)"
   ]
  },
  {
   "cell_type": "markdown",
   "metadata": {},
   "source": [
    "Zaimplementuj szyfr Cezara. Napisz funkcję **Cezar(tekst, klucz)** tak aby jako argumenty przyjmowała tekst do zaszyfrowania oraz klucz a zwracała zaszyfrowany tekst. Funkcja ta dostając jako argumenty zaszyfrowany tekst oraz **-klucz** (klucz, ktorym zaszyfrowano tekst ze znakiem minus) będzie zwracała odszyfrowany tekst. Funkcja powinna przejść testy, czyli powinna 8 razy zwrócić **True**.\n",
    "\n",
    "Pamiętaj o polskich znakach. Szyfrujemy tylko litery, natomiast cyfry, znaki interpunkcyjne i białe znaki zostają bez zmian. Wielkie litery po zaszyfrowaniu są również wielkie. Użyj poniższego alfabetu."
   ]
  },
  {
   "cell_type": "code",
   "metadata": {
    "ExecuteTime": {
     "end_time": "2025-10-15T20:05:35.755551Z",
     "start_time": "2025-10-15T20:05:35.752025Z"
    }
   },
   "source": [
    "alfabet = ['a','ą', 'b', 'c', 'ć', 'd', 'e', 'ę', 'f', 'g', 'h', 'i', 'j', 'k', 'l', 'ł', 'm', \n",
    "           'n', 'ń', 'o','ó', 'p', 'q','r', 's', 'ś', 't', 'u','v', 'w', 'x','y', 'z','ź','ż']"
   ],
   "outputs": [],
   "execution_count": 5
  },
  {
   "cell_type": "markdown",
   "metadata": {},
   "source": [
    "Przy implementacji mogą być przydatne takie elementy biblioteki string jak: **string.punctuation, string.whitespace, string.digits, upper(), lower(), isupper()**"
   ]
  },
  {
   "cell_type": "code",
   "metadata": {
    "ExecuteTime": {
     "end_time": "2025-10-15T20:05:37.014410Z",
     "start_time": "2025-10-15T20:05:37.010571Z"
    }
   },
   "source": [
    "def Cezar(tekst,klucz):\n",
    "    wynik = ''\n",
    "    for znak in tekst:\n",
    "        if znak.lower() in alfabet:\n",
    "            nowa_litera = alfabet[(alfabet.index(znak.lower()) + klucz) % len(alfabet)]\n",
    "            if znak.isupper():\n",
    "                wynik += nowa_litera.upper()\n",
    "            else:\n",
    "                wynik += nowa_litera\n",
    "        else:\n",
    "            wynik += znak\n",
    "    return wynik"
   ],
   "outputs": [],
   "execution_count": 6
  },
  {
   "cell_type": "code",
   "metadata": {
    "ExecuteTime": {
     "end_time": "2025-10-15T20:05:38.034962Z",
     "start_time": "2025-10-15T20:05:38.030052Z"
    }
   },
   "source": [
    "print(Cezar('Ala ma kota.',3)=='Cnc oc mqwc.')\n",
    "print(Cezar('Ala ma kota.',20)=='Óżó ąó źćió.')\n",
    "print(Cezar('Ala ma 2 koty.',5)=='Dod pd 2 ńsyą.')\n",
    "print(Cezar('Daremne żale, próżny trud,\\nBezsilne złorzeczenia!\\nPrzeżytych kształtów żaden cud\\nNie wróci do istnienia.',7)\n",
    "                  =='Jęxkrsk eępk, vxuesc źxżj,\\nGkćyńpsk ćqtxćkhćksńę!\\nVxćkecźchn óyćźęqźuą eęjks hżj\\nSńk ąxuhń jt ńyźsńksńę.')\n",
    "print(Cezar('Cnc oc mqwc.',-3)=='Ala ma kota.')\n",
    "print(Cezar('Óżó ąó źćió.',-20)=='Ala ma kota.')\n",
    "print(Cezar('Dod pd 2 ńsyą.',-5)=='Ala ma 2 koty.')\n",
    "print(Cezar('Jęxkrsk eępk, vxuesc źxżj,\\nGkćyńpsk ćqtxćkhćksńę!\\nVxćkecźchn óyćźęqźuą eęjks hżj\\nSńk ąxuhń jt ńyźsńksńę.',-7)\n",
    "                  =='Daremne żale, próżny trud,\\nBezsilne złorzeczenia!\\nPrzeżytych kształtów żaden cud\\nNie wróci do istnienia.')"
   ],
   "outputs": [
    {
     "name": "stdout",
     "output_type": "stream",
     "text": [
      "True\n",
      "True\n",
      "True\n",
      "True\n",
      "True\n",
      "True\n",
      "True\n",
      "True\n"
     ]
    }
   ],
   "execution_count": 7
  },
  {
   "cell_type": "markdown",
   "metadata": {},
   "source": [
    "## Zadanie 2 (1 pkt.)"
   ]
  },
  {
   "cell_type": "markdown",
   "metadata": {},
   "source": [
    "Wiedząc, że poniższy tekst zaszyfrowano metodą Cezara, odszyfruj go metodą \"brute force\". Co to za cytat?"
   ]
  },
  {
   "cell_type": "code",
   "metadata": {
    "ExecuteTime": {
     "end_time": "2025-10-15T20:05:39.528427Z",
     "start_time": "2025-10-15T20:05:39.525622Z"
    }
   },
   "source": [
    "tekst = 'Hćcrek okyź hćęy? Okzpń sńóź rsńk t źt sńk vcźę, ąńkr. Okzpń vcźęofhkrż żyńqżol ącźqżręhćci, sńk ąńkr.'"
   ],
   "outputs": [],
   "execution_count": 8
  },
  {
   "metadata": {
    "ExecuteTime": {
     "end_time": "2025-10-15T20:05:40.435393Z",
     "start_time": "2025-10-15T20:05:40.431882Z"
    }
   },
   "cell_type": "code",
   "source": [
    "def brute_force(tekst):\n",
    "    for i in range(len(alfabet)):\n",
    "        print('Klucz ', i, ': ', Cezar(tekst, -i))"
   ],
   "outputs": [],
   "execution_count": 9
  },
  {
   "metadata": {
    "ExecuteTime": {
     "end_time": "2025-10-15T20:05:41.092210Z",
     "start_time": "2025-10-15T20:05:41.087395Z"
    }
   },
   "cell_type": "code",
   "source": "brute_force(tekst)",
   "outputs": [
    {
     "name": "stdout",
     "output_type": "stream",
     "text": [
      "Klucz  0 :  Hćcrek okyź hćęy? Okzpń sńóź rsńk t źt sńk vcźę, ąńkr. Okzpń vcźęofhkrż żyńqżol ącźqżręhćci, sńk ąńkr.\n",
      "Klucz  1 :  Gcbqdj ńjxz gcex? Ńjyón rnoz qrnj ś zś rnj ubze, anjq. Ńjyón ubzeńęgjqź źxnpźńk abzpźqegcbh, rnj anjq.\n",
      "Klucz  2 :  Fbąpći niwy fbdw? Nixom qmńy pqmi s ys qmi tąyd, żmip. Nixom tąydnefipz zwmóznj żąyózpdfbąg, qmi żmip.\n",
      "Klucz  3 :  Ęąaóch mhvx ęąćv? Mhwńł płnx ópłh r xr płh śaxć, źłhó. Mhwńł śaxćmdęhóy yvłoymi źaxoyóćęąaf, płh źłhó.\n",
      "Klucz  4 :  Eażobg łguw eacu? Łgvnl ólmw oólg q wq ólg sżwc, zlgo. Łgvnl sżwcłćegox xulńxłh zżwńxoceażę, ólg zlgo.\n",
      "Klucz  5 :  Dżźńąf lftv dżbt? Lfumk okłv ńokf p vp okf rźvb, ykfń. Lfumk rźvblcdfńw wtknwlg yźvnwńbdżźe, okf ykfń.\n",
      "Klucz  6 :  Ćźznaę kęśu ćźąś? Kętłj ńjlu nńję ó uó ńję qzuą, xjęn. Kętłj qzuąkbćęnv vśjmvkf xzumvnąćźzd, ńję xjęn.\n",
      "Klucz  7 :  Czymże jest czas? Jeśli nikt mnie o to nie pyta, wiem. Jeśli pytającemu usiłuję wytłumaczyć, nie wiem.\n",
      "Klucz  8 :  Byxłźd idrś byżr? Idskh mhjś łmhd ń śń mhd óxśż, vhdł. Idskh óxśżiabdłt trhltie vxśltłżbyxc, mhd vhdł.\n",
      "Klucz  9 :  Ąxwlzć hćqs ąxźq? Hćrjg łgis lłgć n sn łgć owsź, ugćl. Hćrjg owsźhżąćlś śqgkśhd uwskślźąxwb, łgć ugćl.\n",
      "Klucz  10 :  Awvkyc gcpr awzp? Gcqif lfhr klfc m rm lfc ńvrz, tfck. Gcqif ńvrzgźacks spfjsgć tvrjskzawvą, lfc tfck.\n",
      "Klucz  11 :  Żvujxb fbóq żvyó? Fbphę kęgq jkęb ł qł kęb nuqy, śębj. Fbphę nuqyfzżbjr róęirfc śuqirjyżvua, kęb śębj.\n",
      "Klucz  12 :  Źutiwą ęąop źuxo? Ęąóge jefp ijeą l pl jeą mtpx, seąi. Ęąóge mtpxęyźąiq qoehqęb stphqixźutż, jeą seąi.\n",
      "Klucz  13 :  Ztśhva eańó ztwń? Eaofd idęó hida k ók ida łśów, rdah. Eaofd łśówexzahp pńdgpeą rśógphwztśź, ida rdah.\n",
      "Klucz  14 :  Yśsguż dżno yśvn? Dżńęć hćeo ghćż j oj hćż lsov, qćżg. Dżńęć lsovdwyżgó ónćfóda qsofógvyśsz, hćż qćżg.\n",
      "Klucz  15 :  Xsrftź ćźmń xsum? Ćźnec gcdń fgcź i ńi gcź krńu, pcźf. Ćźnec krńućvxźfo omcęoćż prńęofuxsry, gcź pcźf.\n",
      "Klucz  16 :  Wrqęśz człn wrtł? Czmdb fbćn ęfbz h nh fbz jqnt, óbzę. Czmdb jqntcuwzęń ńłbeńcź óqneńętwrqx, fbz óbzę.\n",
      "Klucz  17 :  Vqpesy bylm vqśl? Byłćą ęącm eęąy g mg ęąy ipmś, oąye. Byłćą ipmśbtvyen nlądnbz opmdneśvqpw, ęąy oąye.\n",
      "Klucz  18 :  Upódrx ąxkł upsk? Ąxlca eabł deax f łf eax hółs, ńaxd. Ąxlca hółsąśuxdm mkaćmąy ńółćmdsupóv, eax ńaxd.\n",
      "Klucz  19 :  Tóoćqw awjl tórj? Awkbż dżąl ćdżw ę lę dżw golr, nżwć. Awkbż golrastwćł łjżcłax nolcłćrtóou, dżw nżwć.\n",
      "Klucz  20 :  Śońcpv żvik śoqi? Żvjąź ćźak cćźv e ke ćźv fńkq, mźvc. Żvjąź fńkqżrśvcl liźblżw mńkblcqśońt, ćźv mźvc.\n",
      "Klucz  21 :  Sńnbóu źuhj sńph? Źuiaz czżj bczu d jd czu ęnjp, łzub. Źuiaz ęnjpźqsubk khząkźv łnjąkbpsńnś, czu łzub.\n",
      "Klucz  22 :  Rnmąot ztgi rnóg? Zthży byźi ąbyt ć ić byt emió, lytą. Zthży emiózprtąj jgyajzu lmiająórnms, byt lytą.\n",
      "Klucz  23 :  Qmłańś yśfh qmof? Yśgźx ąxzh aąxś c hc ąxś dłho, kxśa. Yśgźx dłhoyóqśai ifxżiyt kłhżiaoqmłr, ąxś kxśa.\n",
      "Klucz  24 :  Płlżns xsęg płńę? Xsfzw awyg żaws b gb aws ćlgń, jwsż. Xsfzw ćlgńxopsżh hęwźhxś jlgźhżńpłlq, aws jwsż.\n",
      "Klucz  25 :  Ólkźmr wref ólne? Wręyv żvxf źżvr ą fą żvr ckfn, ivrź. Wręyv ckfnwńórźg gevzgws ikfzgźnólkp, żvr ivrź.\n",
      "Klucz  26 :  Okjzłq vqdę okmd? Vqexu źuwę zźuq a ęa źuq bjęm, huqz. Vqexu bjęmvnoqzf fduyfvr hjęyfzmokjó, źuq huqz.\n",
      "Klucz  27 :  Ńjiylp upće ńjłć? Updwt ztve yztp ż eż ztp ąieł, gtpy. Updwt ąiełumńpyę ęćtxęuq giexęyłńjio, ztp gtpy.\n",
      "Klucz  28 :  Nihxkó tócd nilc? Tóćvś yśud xyśó ź dź yśó ahdl, fśóx. Tóćvś ahdltłnóxe ecśwetp fhdwexlnihń, yśó fśóx.\n",
      "Klucz  29 :  Mhgwjo śobć mhkb? Śocus xstć wxso z ćz xso żgćk, ęsow. Śocus żgćkślmowd dbsvdśó ęgćvdwkmhgn, xso ęsow.\n",
      "Klucz  30 :  Łgfviń sńąc łgją? Sńbtr wrśc vwrń y cy wrń źfcj, erńv. Sńbtr źfcjskłńvć ćąrućso efcućvjłgfm, wrń erńv.\n",
      "Klucz  31 :  Lfęuhn rnab lfia? Rnąśq vqsb uvqn x bx vqn zębi, dqnu. Rnąśq zębirjlnuc caqtcrń dębtcuilfęł, vqn dqnu.\n",
      "Klucz  32 :  Kęetgm qmżą kęhż? Qmasp uprą tupm w ąw upm yeąh, ćpmt. Qmasp yeąhqikmtb bżpśbqn ćeąśbthkęel, upm ćpmt.\n",
      "Klucz  33 :  Jedśfł płźa jegź? Płżró tóqa śtół v av tół xdag, cółś. Płżró xdagphjłśą ąźósąpm cdasąśgjedk, tół cółś.\n",
      "Klucz  34 :  Idćsęl ólzż idfz? Ólźqo śopż sśol u żu śol wćżf, bols. Ólźqo wćżfógilsa azoraół bćżrasfidćj, śol bols.\n"
     ]
    }
   ],
   "execution_count": 10
  },
  {
   "cell_type": "markdown",
   "metadata": {},
   "source": [
    "## Zadanie 3 (2 pkt.)"
   ]
  },
  {
   "cell_type": "markdown",
   "metadata": {},
   "source": [
    "Plik **'ksiazka1.txt'** zawiera tekst pewnej książki zaszyfrowany metodą Cezara. Dokonaj analizy statystycznej liter i na tej podstawie znajdź klucz oraz odszyfruj tekst. Jaka to książka?\n",
    "\n",
    "Do wczytania pliku możesz użyć poniższego kodu."
   ]
  },
  {
   "cell_type": "code",
   "metadata": {
    "ExecuteTime": {
     "end_time": "2025-10-15T20:05:43.451753Z",
     "start_time": "2025-10-15T20:05:43.425730Z"
    }
   },
   "source": [
    "plik=open('ksiazka1.txt', encoding='utf8')\n",
    "ksiazka=plik.read()\n",
    "plik.close()"
   ],
   "outputs": [],
   "execution_count": 11
  },
  {
   "cell_type": "markdown",
   "metadata": {},
   "source": [
    "Słownik **czestoliwosc** zawiera częstotliwości występowania liter w języku polskim."
   ]
  },
  {
   "cell_type": "code",
   "metadata": {
    "ExecuteTime": {
     "end_time": "2025-10-15T20:05:44.652104Z",
     "start_time": "2025-10-15T20:05:44.648606Z"
    }
   },
   "source": [
    "czestotliwosc = {'a':0.0891,'ą':0.0099, 'b':0.0147, 'c':0.0396, 'ć':0.004, 'd':0.0325, 'e':0.0766, 'ę':0.0111, 'f':0.003, \n",
    "                 'g':0.0142, 'h':0.0108, 'i':0.0821, 'j':0.0228, 'k':0.0351, 'l':0.021, 'ł':0.0182,'m':0.028, 'n':0.0552, \n",
    "                 'ń':0.002, 'o':0.0775,'ó':0.0085, 'p':0.0313, 'q':0.0014, 'r':0.0469, 's':0.0432,'ś':0.0066, 't':0.0398,\n",
    "                 'u':0.025, 'v': 0.0004, 'w':0.0465 ,'x':0.0002,'y':0.0376, 'z':0.0564,'ź':0.0006,'ż':0.0083}"
   ],
   "outputs": [],
   "execution_count": 12
  },
  {
   "cell_type": "code",
   "metadata": {
    "ExecuteTime": {
     "end_time": "2025-10-15T20:05:45.514003Z",
     "start_time": "2025-10-15T20:05:45.369917Z"
    }
   },
   "source": [
    "plt.bar(czestotliwosc.keys(),czestotliwosc.values())"
   ],
   "outputs": [
    {
     "data": {
      "text/plain": [
       "<BarContainer object of 35 artists>"
      ]
     },
     "execution_count": 13,
     "metadata": {},
     "output_type": "execute_result"
    },
    {
     "data": {
      "text/plain": [
       "<Figure size 640x480 with 1 Axes>"
      ],
      "image/png": "[encoded data removed]"
     },
     "metadata": {},
     "output_type": "display_data"
    }
   ],
   "execution_count": 13
  },
  {
   "metadata": {
    "ExecuteTime": {
     "end_time": "2025-10-15T20:05:47.391099Z",
     "start_time": "2025-10-15T20:05:47.387871Z"
    }
   },
   "cell_type": "code",
   "source": [
    "def zlicz(tekst):\n",
    "    total = 0\n",
    "    counts = {char:0 for char in alfabet}\n",
    "    for znak in tekst:\n",
    "        if znak.lower() in counts:\n",
    "            counts[znak.lower()] += 1\n",
    "            total += 1\n",
    "    return  counts, total"
   ],
   "outputs": [],
   "execution_count": 14
  },
  {
   "metadata": {},
   "cell_type": "markdown",
   "source": [
    "### Funkcja `chi_kwadrat(observed_counts, total_chars)`\n",
    "\n",
    "To **miara dopasowania** między rozkładem liter w zaszyfrowanym tekście\n",
    "a wzorcem języka polskiego (częstotliwości liter).\n",
    "\n",
    "---\n",
    "\n",
    "#### Wzór statystyki chi-kwadrat:\n",
    "\n",
    "χ² = Σ ((O − E)² / E)\n",
    "Gdzie:\n",
    "\n",
    "- **O** – liczba obserwowana (ile razy dana litera wystąpiła w książce)\n",
    "- **E** – liczba oczekiwana (ile powinna wystąpić wg częstotliwości w języku polskim)\n"
   ]
  },
  {
   "metadata": {},
   "cell_type": "code",
   "outputs": [],
   "execution_count": null,
   "source": [
    "def chi_kwadrat(observed_counts, total_chars):\n",
    "    stat = 0.0\n",
    "    for znak in alfabet:\n",
    "        O = observed_counts.get(znak, 0)\n",
    "        E = total_chars * czestotliwosc.get(znak, 0)\n",
    "        if E > 0:\n",
    "            stat += (O - E)**2 / E\n",
    "    return stat"
   ]
  },
  {
   "metadata": {
    "ExecuteTime": {
     "end_time": "2025-10-15T20:05:52.398709Z",
     "start_time": "2025-10-15T20:05:52.393504Z"
    }
   },
   "cell_type": "code",
   "source": [
    "def znajdz_i_odszyfruj(ksiazka, plik_wyjsciowy='ksiazka1_odszyfrowana.txt'):\n",
    "    counts, total = zlicz(ksiazka)\n",
    "\n",
    "    obs = [counts[i] for i in alfabet]\n",
    "    wzor = [czestotliwosc[i] for i in alfabet]\n",
    "\n",
    "    best_chi = float('inf')\n",
    "    best_k = None\n",
    "\n",
    "    for k in range(len(alfabet)):\n",
    "        przesuniety = wzor[-k:] + wzor[:-k]\n",
    "        chi = sum((o - e*total)**2 / (e*total) for o, e in zip(obs, przesuniety) if e > 0)\n",
    "\n",
    "        if chi < best_chi:\n",
    "            best_chi = chi\n",
    "            best_k = k\n",
    "\n",
    "    odszyfrowany_tekst = Cezar(ksiazka, -best_k)\n",
    "\n",
    "    with open(plik_wyjsciowy, 'w', encoding='utf8') as out:\n",
    "        out.write(odszyfrowany_tekst)\n",
    "\n",
    "    print(odszyfrowany_tekst[:1000])\n"
   ],
   "outputs": [],
   "execution_count": 16
  },
  {
   "metadata": {
    "ExecuteTime": {
     "end_time": "2025-10-15T20:05:55.542725Z",
     "start_time": "2025-10-15T20:05:54.935184Z"
    }
   },
   "cell_type": "code",
   "source": "znajdz_i_odszyfruj(ksiazka)",
   "outputs": [
    {
     "name": "stdout",
     "output_type": "stream",
     "text": [
      "Tom I\n",
      "\n",
      "\n",
      "\n",
      "Wstęp\n",
      "\n",
      "W północno-wschodnim kącie Afryki leży Egipt, ojczyzna najstarszej cywilizacji w świecie. Przed trzema, czterema, a nawet pięcioma tysiącami lat, kiedy w środkowej Europie odziani w surowe skóry barbarzyńcy kryli się po jaskiniach, Egipt - już posiadał wysoką organizację społeczną, rolnictwo, rzemiosła i literaturę. Nade wszystko zaś wykonywał olbrzymie prace inżynierskie i wznosił kolosalne budowle, których szczątki budzą podziw w technikach nowożytnych.\n",
      "\n",
      "Egipt - jest to żyzny wąwóz między pustynią Libijską i Arabską. Głębokość jego wynosi kilkaset metrów, długość sto trzydzieści mil, średnia szerokość zaledwo milę. Od zachodu - łagodne, ale nagie wzgórza libijskie, od wschodu strome i popękane skały arabskie są ścianami tego korytarza, którego dnem płynie rzeka - Nil.\n",
      "\n",
      "Z biegiem rzeki, na północ, ściany wąwozu zniżają się, a w odległości dwudziestu pięciu mil od Morza Śródziemnego nagle rozchodzą się, i Nil, zamiast płynąć ciasnym korytarzem, rozlewa się kilkoma ramio\n"
     ]
    }
   ],
   "execution_count": 17
  },
  {
   "cell_type": "markdown",
   "metadata": {},
   "source": [
    "## Zadanie 4 (2 pkt.)"
   ]
  },
  {
   "cell_type": "markdown",
   "metadata": {},
   "source": [
    "Napisz dwie funkcje, szyfrującą i deszyfrującą, dla szyfru Vignere'a. Funkcja **Vignere_zaszyfruj(tekst, klucz)** przyjmuje jako argumenty tekst do zaszyfrowania oraz klucz w postaci słowa. Podobnie funkcja **Vignere_odszyfruj(tekst, klucz)** przyjmuje jako argumenty tekst zaszyfrowany oraz klucz w postaci słowa. Może być przydatne skorzystanie z zamiany liter na liczby (tzn. na liczby określające pozycję litery w alfabecie):"
   ]
  },
  {
   "cell_type": "code",
   "metadata": {
    "ExecuteTime": {
     "end_time": "2025-10-15T20:05:57.176556Z",
     "start_time": "2025-10-15T20:05:57.173799Z"
    }
   },
   "source": [
    "liczb_do_lit=dict()\n",
    "lit_do_liczb=dict()\n",
    "for i,l in enumerate(alfabet):\n",
    "    liczb_do_lit[i]=l\n",
    "    lit_do_liczb[l]=i"
   ],
   "outputs": [],
   "execution_count": 18
  },
  {
   "cell_type": "code",
   "metadata": {
    "ExecuteTime": {
     "end_time": "2025-10-15T20:05:58.222715Z",
     "start_time": "2025-10-15T20:05:58.218848Z"
    }
   },
   "source": [
    "def Vignere_zaszyfruj(tekst, klucz):\n",
    "    wynik = ''\n",
    "    klucz_idx = [lit_do_liczb[l.lower()] for l in klucz if l.lower() in lit_do_liczb]\n",
    "    k = 0\n",
    "\n",
    "    for znak in tekst:\n",
    "        if znak.lower() in lit_do_liczb:\n",
    "            x = lit_do_liczb[znak.lower()]\n",
    "            y = (x + klucz_idx[k % len(klucz_idx)]) % len(alfabet)\n",
    "            litera = liczb_do_lit[y]\n",
    "            wynik += litera.upper() if znak.isupper() else litera\n",
    "            k += 1\n",
    "        else:\n",
    "            wynik += znak\n",
    "    return wynik\n"
   ],
   "outputs": [],
   "execution_count": 19
  },
  {
   "cell_type": "code",
   "metadata": {
    "ExecuteTime": {
     "end_time": "2025-10-15T20:05:59.289408Z",
     "start_time": "2025-10-15T20:05:59.286829Z"
    }
   },
   "source": [
    "def Vignere_odszyfruj(tekst, klucz):\n",
    "    wynik = ''\n",
    "    klucz_idx = [lit_do_liczb[l.lower()] for l in klucz if l.lower() in lit_do_liczb]\n",
    "    k = 0\n",
    "\n",
    "    for znak in tekst:\n",
    "        if znak.lower() in lit_do_liczb:\n",
    "            x = lit_do_liczb[znak.lower()]\n",
    "            y = (x - klucz_idx[k % len(klucz_idx)]) % len(alfabet)\n",
    "            litera = liczb_do_lit[y]\n",
    "            wynik += litera.upper() if znak.isupper() else litera\n",
    "            k += 1\n",
    "        else:\n",
    "            wynik += znak\n",
    "    return wynik\n"
   ],
   "outputs": [],
   "execution_count": 20
  },
  {
   "cell_type": "code",
   "metadata": {
    "ExecuteTime": {
     "end_time": "2025-10-15T20:06:00.243564Z",
     "start_time": "2025-10-15T20:06:00.239683Z"
    }
   },
   "source": [
    "print(Vignere_zaszyfruj('Ala ma kota.','ela')=='Eva ql kśda.')\n",
    "print(Vignere_zaszyfruj('Ala ma kota.','tygrys')=='Thg ćy bhqg.')\n",
    "print(Vignere_zaszyfruj('Ala ma 2 koty.','indywidualistyczny')=='Iyd jw 2 ssńy.')\n",
    "print(Vignere_zaszyfruj('Daremne żale, próżny trud,\\nBezsilne złorzeczenia!\\nPrzeżytych kształtów żaden cud\\nNie wróci do istnienia.','asnyk')\n",
    "                  =='Dsdbwnx myue, hdmjnó fodd,\\nTrvbicżb hłfdvocprksa!\\nHdvożófumh bevćaćfmę żsqbx cmq\\nKse ńdmmi wą ębtevbxis.')\n",
    "print(Vignere_odszyfruj('Eva ql kśda.','ela')=='Ala ma kota.')\n",
    "print(Vignere_odszyfruj('Thg ćy bhqg.','tygrys')=='Ala ma kota.')\n",
    "print(Vignere_odszyfruj('Iyd jw 2 ssńy.','indywidualistyczny')=='Ala ma 2 koty.')\n",
    "print(Vignere_odszyfruj('Dsdbwnx myue, hdmjnó fodd,\\nTrvbicżb hłfdvocprksa!\\nHdvożófumh bevćaćfmę żsqbx cmq\\nKse ńdmmi wą ębtevbxis.','asnyk')\n",
    "                  =='Daremne żale, próżny trud,\\nBezsilne złorzeczenia!\\nPrzeżytych kształtów żaden cud\\nNie wróci do istnienia.')"
   ],
   "outputs": [
    {
     "name": "stdout",
     "output_type": "stream",
     "text": [
      "True\n",
      "True\n",
      "True\n",
      "True\n",
      "True\n",
      "True\n",
      "True\n",
      "True\n"
     ]
    }
   ],
   "execution_count": 21
  },
  {
   "cell_type": "markdown",
   "metadata": {},
   "source": [
    "## Zadanie 5 (2 pkt.)"
   ]
  },
  {
   "cell_type": "markdown",
   "metadata": {},
   "source": [
    "Plik **'ksiazka2.txt'** zawiera tekst pewnej książki zaszyfrowany metodą Vignere'a. Dokonaj analizy statystycznej liter i na tej podstawie znajdź klucz oraz odszyfruj tekst. Jaka to książka?\n",
    "\n",
    "Wskazówka I: Zauważ, że w metodzie Vignere'a co $n$-ta litera (gdzie $n$ to długość klucza) jest zaszyfrowana metodą Cezara.\n",
    "\n",
    "Wskazówka II: Najpierw ustal długość klucza $n$.\n",
    "\n",
    "Do wczytania pliku możesz użyć poniższego kodu."
   ]
  },
  {
   "cell_type": "code",
   "metadata": {
    "ExecuteTime": {
     "end_time": "2025-10-15T20:06:04.243779Z",
     "start_time": "2025-10-15T20:06:04.236488Z"
    }
   },
   "source": [
    "plik=open('ksiazka2.txt', encoding='utf8')\n",
    "ksiazka2=plik.read()\n",
    "plik.close()"
   ],
   "outputs": [],
   "execution_count": 22
  },
  {
   "metadata": {},
   "cell_type": "markdown",
   "source": [
    "W języku polskim niektóre litery występują częściej.\n",
    "Jeśli tekst jest zaszyfrowany jednym alfabetem (np. Cezara), ta struktura jest zachowana.\n",
    "Jeśli różnymi alfabetami (Vigenère), struktura się rozmywa.\n",
    "\n",
    "---\n",
    "\n",
    "## Indeks koincydencji (IC)\n",
    "\n",
    "To miara tej regularności — jak bardzo rozkład liter przypomina prawdziwy język.\n",
    "\n",
    "**Wzór:**\n",
    "\n",
    "IC = Σ [ n (n − 1) ] / [ N (N − 1) ]\n",
    "\n",
    "gdzie:\n",
    "- **n** – liczba wystąpień danej litery\n",
    "- **N** – łączna liczba liter\n",
    "\n",
    "\n"
   ]
  },
  {
   "metadata": {
    "ExecuteTime": {
     "end_time": "2025-10-15T20:09:24.898384Z",
     "start_time": "2025-10-15T20:09:24.894810Z"
    }
   },
   "cell_type": "code",
   "source": [
    "def indeks_koincydencji(tekst):\n",
    "    counts, total = zlicz(tekst)\n",
    "    if total <= 1:\n",
    "        return 0\n",
    "    licznik = 0\n",
    "    for char in alfabet:\n",
    "        n = counts.get(char, 0)\n",
    "        licznik += n * (n - 1)\n",
    "    return licznik / (total * (total - 1))"
   ],
   "outputs": [],
   "execution_count": 29
  },
  {
   "metadata": {
    "ExecuteTime": {
     "end_time": "2025-10-15T20:09:26.184515Z",
     "start_time": "2025-10-15T20:09:26.181403Z"
    }
   },
   "cell_type": "code",
   "source": [
    "def znajdz_dlugosc_klucza(tekst, max_dl=30):\n",
    "    tekst_czysty = ''.join([c for c in tekst.lower() if c in alfabet])\n",
    "    najlepsza_dl = 1\n",
    "    najlepszy_ic = 0\n",
    "    for dl in range(1, max_dl+1):\n",
    "        grupy = [''] * dl\n",
    "        for i, c in enumerate(tekst_czysty):\n",
    "            grupy[i % dl] += c\n",
    "        sredni_ic = 0\n",
    "        for grupa in grupy:\n",
    "            if len(grupa) > 1:\n",
    "                sredni_ic += indeks_koincydencji(grupa)\n",
    "        sredni_ic = sredni_ic/dl\n",
    "        if sredni_ic > najlepszy_ic:\n",
    "            najlepszy_ic = sredni_ic\n",
    "            najlepsza_dl = dl\n",
    "    return najlepsza_dl"
   ],
   "outputs": [],
   "execution_count": 30
  },
  {
   "metadata": {
    "ExecuteTime": {
     "end_time": "2025-10-15T20:09:27.443920Z",
     "start_time": "2025-10-15T20:09:27.440451Z"
    }
   },
   "cell_type": "code",
   "source": [
    "def znajdz_klucz(tekst, dl_klucza):\n",
    "    tekst_czysty = ''.join([c for c in tekst.lower() if c in alfabet])\n",
    "    grupy = [''] * dl_klucza\n",
    "    for i, c in enumerate(tekst_czysty):\n",
    "        grupy[i % dl_klucza] += c\n",
    "\n",
    "    klucz = []\n",
    "    for grupa in grupy:\n",
    "        najlepsze_przesuniecie = 0\n",
    "        najmniejszy_chi = float('inf')\n",
    "        for przesuniecie in range(len(alfabet)):\n",
    "            odszyfrowana_grupa = ''\n",
    "            for c in grupa:\n",
    "                idx = (lit_do_liczb[c] - przesuniecie) % len(alfabet)\n",
    "                odszyfrowana_grupa += liczb_do_lit[idx]\n",
    "            counts, total = zlicz(odszyfrowana_grupa)\n",
    "            chi = chi_kwadrat(counts, total)\n",
    "            if chi < najmniejszy_chi:\n",
    "                najmniejszy_chi = chi\n",
    "                najlepsze_przesuniecie = przesuniecie\n",
    "        klucz.append(liczb_do_lit[najlepsze_przesuniecie])\n",
    "    return ''.join(klucz)\n"
   ],
   "outputs": [],
   "execution_count": 31
  },
  {
   "metadata": {
    "ExecuteTime": {
     "end_time": "2025-10-15T20:14:44.994218Z",
     "start_time": "2025-10-15T20:14:37.751014Z"
    }
   },
   "cell_type": "code",
   "source": [
    "dlugosc_klucza = znajdz_dlugosc_klucza(ksiazka2)\n",
    "print(f\"Znaleziona długość klucza: {dlugosc_klucza}\")\n",
    "\n",
    "klucz = znajdz_klucz(ksiazka2, dlugosc_klucza)\n",
    "print(f\"Znaleziony klucz: {klucz.upper()}\")\n",
    "\n",
    "tekst_odszyfrowany = Vignere_odszyfruj(ksiazka2, klucz)\n",
    "with open('ksiazka2_odszyfrowana.txt', 'w', encoding='utf-8') as plik:\n",
    "    plik.write(tekst_odszyfrowany)\n",
    "\n",
    "print(\"\\nOdszyfrowany tekst (pierwsze 500 znaków):\")\n",
    "print(tekst_odszyfrowany[:500])"
   ],
   "outputs": [
    {
     "name": "stdout",
     "output_type": "stream",
     "text": [
      "Znaleziona długość klucza: 24\n",
      "Znaleziony klucz: GLOBGLOBGLOBGLOBGLOBGLOB\n",
      "\n",
      "Odszyfrowany tekst (pierwsze 500 znaków):\n",
      "Rozdział I. Phileas Fogg, zachwycony Obieżyświatem, przyjmuje go do służby\n",
      "\n",
      "W roku 1872 dom pod numerem 7 przy Saville Row, Burlington Gardens, w którym w roku 1814 zmarł Sheridan, był zamieszkany przez Phileasa Fogga, członka londyńskiego klubu \"Reforma\", osobistość wybitną i wielce oryginalną.\n",
      "\n",
      "Będąc synem słynnego mówcy angielskiego, Phileas Fogg był istotą zagadkową, o której, prócz tego, że odznaczał się elegancją i urodą, nic więcej nie wiedziano. Mówiono, że jest podobny do Byrona, natura\n"
     ]
    }
   ],
   "execution_count": 34
  }
 ],
 "metadata": {
  "kernelspec": {
   "display_name": "Python 3 (ipykernel)",
   "language": "python",
   "name": "python3"
  },
  "language_info": {
   "codemirror_mode": {
    "name": "ipython",
    "version": 3
   },
   "file_extension": ".py",
   "mimetype": "text/x-python",
   "name": "python",
   "nbconvert_exporter": "python",
   "pygments_lexer": "ipython3",
   "version": "3.13.7"
  },
  "vscode": {
   "interpreter": {
    "hash": "96ad6c7fd9d06889208fc918e485ee5403ac6f6c27ad3f857e9a26d0c3a3092d"
   }
  }
 },
 "nbformat": 4,
 "nbformat_minor": 4
}
